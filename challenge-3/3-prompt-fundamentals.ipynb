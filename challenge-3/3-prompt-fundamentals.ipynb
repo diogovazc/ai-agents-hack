{
    "cells": [
        {
            "cell_type": "markdown",
            "id": "97d516ea",
            "metadata": {},
            "source": [
                "# Challenge 3: Fundamentals of Prompt Engineering & Evaluation\n",
                "\n",
                "In this challenge, we'll explore core principles of effective prompt engineering, focusing on practical techniques for crafting prompts and evaluating them using Microsoft's tools. We'll apply these concepts to create effective prompts for HR policy explanation during employee onboarding - a common use case for AI assistants in the workplace."
            ]
        },
        {
            "cell_type": "markdown",
            "id": "e825b913",
            "metadata": {},
            "source": [
                "## 1. Core Principles of Effective Prompt Crafting\n",
                "\n",
                "Effective prompts follow these key principles:\n",
                "\n",
                "1. **Role & Context Setting**: Define the AI's role and provide context for the task. For example, instructing the AI to act as \"an HR specialist helping new employees understand company policies.\"\n",
                "\n",
                "2. **Clear Instructions**: Provide specific, unambiguous directions about what you want the AI to do. For instance, \"Explain the company's leave policy in simple language that new employees can easily understand.\"\n",
                "\n",
                "3. **Input/Output Format Specification**: Clearly define how to format inputs and expected outputs. For example, \"Present the information in a Q&A format with common questions new employees might have.\"\n",
                "\n",
                "4. **Few-Shot Examples**: Provide examples demonstrating desired input/output patterns to guide the AI's responses. For instance, giving an example of how a policy explanation should be structured.\n",
                "\n",
                "5. **Chain-of-Thought Prompting**: Guide the model through a reasoning process. For example, \"First explain the basic entitlement, then outline the procedure for requesting leave, and finally describe any special conditions.\"\n",
                "\n",
                "6. **System vs User Prompts**: Utilize system prompts for personality and user prompts for specific requests. For instance, setting the system prompt to establish the AI as an HR assistant, and using user prompts for specific policy questions.\n",
                "\n",
                "When creating prompts for HR policy explanation during employee onboarding, these principles help ensure that explanations are clear, consistent, and tailored to new employees' needs."
            ]
        },
        {
            "cell_type": "markdown",
            "id": "53699e7f",
            "metadata": {},
            "source": [
                "## 2. Setting up Our Environment\n",
                "\n",
                "First, let's install the necessary python packages for our prompt engineering and evaluation work.<br>\n",
                "We will use the Azure OpenAI client for generating responses and the Azure AI Evaluation SDK for measuring prompt effectiveness."
            ]
        },
        {
            "cell_type": "code",
            "execution_count": 1,
            "id": "3b56e405",
            "metadata": {},
            "outputs": [],
            "source": [
                "import os\n",
                "import numpy as np\n",
                "import matplotlib.pyplot as plt\n",
                "import IPython.display as display\n",
                "from dotenv import load_dotenv\n",
                "from openai import AsyncAzureOpenAI\n",
                "\n",
                "# Load environment variables\n",
                "load_dotenv()\n",
                "\n",
                "# Set up AsyncOpenAI client with Azure credentials\n",
                "client = AsyncAzureOpenAI(\n",
                "    azure_endpoint=os.getenv('AZURE_OPENAI_ENDPOINT'),\n",
                "    azure_deployment=os.getenv('AZURE_OPENAI_DEPLOYMENT'),\n",
                "    api_key=os.getenv('AZURE_OPENAI_KEY'),\n",
                "    api_version = \"2024-12-01-preview\"\n",
                ")"
            ]
        },
        {
            "cell_type": "markdown",
            "id": "bf0bc912",
            "metadata": {},
            "source": [
                "## 3. Interactive Prompt Development\n",
                "\n",
                "Let's set up a function to test our prompts interactively. This function will allow us to send prompts to the AI model and receive responses, which is essential for the iterative process of prompt refinement. \n",
                "\n",
                "Interactive prompt development is crucial for HR policy explanation as it allows us to quickly test different approaches to explaining complex policies and see which ones produce the most clear and helpful responses for new employees."
            ]
        },
        {
            "cell_type": "code",
            "execution_count": 21,
            "id": "7ce2585b",
            "metadata": {},
            "outputs": [],
            "source": [
                "async def get_completion(prompt, system_prompt=\"You are a helpful assistant.\", temperature=0.2):\n",
                "    \"\"\"Get a completion from the OpenAI API\"\"\"\n",
                "    response = await client.chat.completions.create(\n",
                "        model=\"gpt-4o-mini\",  # You can change this to your preferred model\n",
                "        messages=[\n",
                "            {\"role\": \"system\", \"content\": system_prompt},\n",
                "            {\"role\": \"user\", \"content\": prompt}\n",
                "        ],\n",
                "        temperature=temperature,\n",
                "    )\n",
                "    return response.choices[0].message.content"
            ]
        },
        {
            "cell_type": "code",
            "execution_count": 10,
            "id": "bae6aa53",
            "metadata": {},
            "outputs": [
                {
                    "data": {
                        "text/markdown": [
                            "I am based on OpenAI's GPT-3 model. If you have any questions or need assistance, feel free to ask!"
                        ],
                        "text/plain": [
                            "<IPython.core.display.Markdown object>"
                        ]
                    },
                    "execution_count": 10,
                    "metadata": {},
                    "output_type": "execute_result"
                }
            ],
            "source": [
                "response = await get_completion(input())\n",
                "display.Markdown(response)"
            ]
        },
        {
            "cell_type": "markdown",
            "id": "79f3d3f9",
            "metadata": {},
            "source": [
                "## 4. Prompt Scenarios: HR Policy Explanation\n",
                "\n",
                "Now let's explore a prompt scenario relevant to our HR onboarding use case.\n",
                "We will create prompts for an AI assistant that explains company policies to new employees.\n",
                "\n",
                "First let's try a basic prompt without much engineering and analyse the result, then we create an improved version using the principles we've discussed. \n",
                "This will demonstrate how proper prompt engineering can significantly improve the quality of policy explanations for new employees.\n",
                "\n",
                "#### Basic Prompt"
            ]
        },
        {
            "cell_type": "code",
            "execution_count": 11,
            "id": "ba1b0ec6",
            "metadata": {},
            "outputs": [],
            "source": [
                "# Let's use our HR policy explanation example instead of the research paper\n",
                "hr_policy = \"\"\"\n",
                "Company Work-From-Home Policy\n",
                "\n",
                "Effective Date: January 1, 2023\n",
                "\n",
                "1. Policy Purpose\n",
                "This policy establishes guidelines for employees to work from home while maintaining productivity and effective operations.\n",
                "\n",
                "2. Eligibility\n",
                "- Full-time employees who have completed their three-month probationary period\n",
                "- Employees with satisfactory performance reviews\n",
                "- Roles suitable for remote work as determined by department managers\n",
                "\n",
                "3. Work-From-Home Arrangements\n",
                "- Employees may work from home up to two (2) days per week\n",
                "- Requests must be submitted through the HR portal at least 24 hours in advance\n",
                "- Approval is at the discretion of the employee's direct manager\n",
                "- Regular work hours (9am-5pm) must be maintained during remote work days\n",
                "\n",
                "4. Employee Responsibilities\n",
                "- Maintain availability during business hours via approved communication channels\n",
                "- Attend all scheduled meetings virtually\n",
                "- Ensure a secure internet connection and appropriate workspace\n",
                "- Follow all data security and confidentiality requirements\n",
                "- Report any work-related accidents that occur during remote work hours\n",
                "\n",
                "5. Equipment and Support\n",
                "- Company will provide laptop and necessary software\n",
                "- IT support available during normal business hours\n",
                "- Employees are responsible for maintaining reliable internet connection\n",
                "\n",
                "6. Termination of Arrangement\n",
                "The company reserves the right to modify or terminate work-from-home arrangements if:\n",
                "- Business needs change\n",
                "- Performance or productivity concerns arise\n",
                "- Policy violations occur\n",
                "\"\"\"\n",
                "\n",
                "# Basic prompt without engineering techniques\n",
                "basic_prompt = f\"Explain this work-from-home policy: {hr_policy}\""
            ]
        },
        {
            "cell_type": "code",
            "execution_count": 12,
            "id": "79666e65",
            "metadata": {},
            "outputs": [
                {
                    "data": {
                        "text/markdown": [
                            "<h5 style=\"color: blanchedalmond;\">BASIC PROMPT RESPONSE</h5><p>This work-from-home policy outlines the framework and expectations for employees who wish to work remotely. Here’s a breakdown of the key components:\n",
                            "\n",
                            "### 1. Policy Purpose\n",
                            "The primary goal of this policy is to provide a structured approach for employees to work from home while ensuring that productivity and operational effectiveness are maintained.\n",
                            "\n",
                            "### 2. Eligibility\n",
                            "To qualify for the work-from-home arrangement, employees must meet the following criteria:\n",
                            "- **Employment Status**: Only full-time employees who have successfully completed a three-month probationary period are eligible.\n",
                            "- **Performance**: Employees must have satisfactory performance reviews, indicating they meet the company's performance standards.\n",
                            "- **Role Suitability**: The employee's role must be deemed suitable for remote work by their department manager, ensuring that the nature of the job can be effectively performed outside the office.\n",
                            "\n",
                            "### 3. Work-From-Home Arrangements\n",
                            "- **Frequency**: Employees are allowed to work from home up to two days each week.\n",
                            "- **Request Process**: Employees must submit their requests to work from home through the HR portal at least 24 hours in advance, allowing for proper planning and management.\n",
                            "- **Approval**: The direct manager has the discretion to approve or deny the request based on business needs and employee performance.\n",
                            "- **Work Hours**: Employees are expected to maintain regular work hours (9 AM to 5 PM) on remote work days, ensuring consistency in availability and productivity.\n",
                            "\n",
                            "### 4. Employee Responsibilities\n",
                            "While working from home, employees are required to:\n",
                            "- **Availability**: Remain accessible during business hours through designated communication channels (e.g., email, chat).\n",
                            "- **Meetings**: Attend all scheduled meetings virtually, ensuring participation and engagement.\n",
                            "- **Workspace**: Create a secure and appropriate workspace to facilitate effective work.\n",
                            "- **Data Security**: Adhere to all data security and confidentiality protocols to protect company information.\n",
                            "- **Incident Reporting**: Report any work-related accidents that occur during remote work hours, ensuring that the company is aware of any incidents.\n",
                            "\n",
                            "### 5. Equipment and Support\n",
                            "- **Company Equipment**: The company will provide employees with a laptop and necessary software to perform their job functions.\n",
                            "- **IT Support**: IT support will be available during normal business hours to assist with any technical issues.\n",
                            "- **Internet Responsibility**: Employees are responsible for ensuring they have a reliable internet connection to perform their duties effectively.\n",
                            "\n",
                            "### 6. Termination of Arrangement\n",
                            "The company retains the right to modify or terminate work-from-home arrangements under certain conditions, including:\n",
                            "- **Business Needs**: Changes in business requirements that necessitate a return to the office.\n",
                            "- **Performance Issues**: Concerns regarding an employee's performance or productivity while working remotely.\n",
                            "- **Policy Violations**: Any breaches of the work-from-home policy that may warrant disciplinary action.\n",
                            "\n",
                            "### Summary\n",
                            "Overall, this policy aims to balance the flexibility of remote work with the need for accountability and productivity. It sets clear expectations for eligibility, responsibilities, and the process for requesting remote work, while also outlining the company's rights to modify the arrangement as necessary.</p>"
                        ],
                        "text/plain": [
                            "<IPython.core.display.Markdown object>"
                        ]
                    },
                    "execution_count": 12,
                    "metadata": {},
                    "output_type": "execute_result"
                }
            ],
            "source": [
                "basic_response = await get_completion(basic_prompt)\n",
                "\n",
                "result = f'<h5 style=\"color: blanchedalmond;\">BASIC PROMPT RESPONSE</h5><p>{basic_response}</p>'\n",
                "\n",
                "display.Markdown(result)"
            ]
        },
        {
            "cell_type": "markdown",
            "id": "047f6842",
            "metadata": {},
            "source": [
                "#### Engineered Prompt"
            ]
        },
        {
            "cell_type": "code",
            "execution_count": 13,
            "id": "5d9eb53b",
            "metadata": {},
            "outputs": [],
            "source": [
                "# Engineered prompt using best practices for HR onboarding\n",
                "engineered_prompt = f\"\"\"\n",
                "You are an HR specialist helping new employees understand company policies during their onboarding process.\n",
                "\n",
                "Explain the following work-from-home policy in a clear and friendly manner that new employees will find helpful and easy to understand. \n",
                "\n",
                "Format your response with these components:\n",
                "1. A brief title and overview\n",
                "2. Clear sections with headings covering eligibility, how to request WFH days, and employee responsibilities\n",
                "3. A Q&A section addressing 3 common questions new employees might have\n",
                "4. Contact information for additional help\n",
                "\n",
                "Use bullet points and numbered lists where appropriate to make the information easily scannable. \n",
                "Maintain a friendly, supportive tone appropriate for new employees who are still learning company procedures.\n",
                "\n",
                "POLICY TO EXPLAIN:\n",
                "{hr_policy}\n",
                "\"\"\""
            ]
        },
        {
            "cell_type": "code",
            "execution_count": 14,
            "id": "a485e376",
            "metadata": {},
            "outputs": [
                {
                    "data": {
                        "text/markdown": [
                            "<h5 style=\"color: blanchedalmond;\">ENGINEERED PROMPT RESPONSE</h5><p># Work-From-Home Policy Overview\n",
                            "\n",
                            "Welcome to our Work-From-Home (WFH) Policy! This policy is designed to help you understand how you can work from home while ensuring that our operations remain smooth and productive. We want to support you in balancing your work and personal life, so let’s dive into the details!\n",
                            "\n",
                            "## Eligibility\n",
                            "\n",
                            "To be eligible for working from home, you need to meet the following criteria:\n",
                            "\n",
                            "- **Full-Time Status**: You must be a full-time employee.\n",
                            "- **Probation Period**: You should have completed your three-month probationary period.\n",
                            "- **Performance Reviews**: You need to have satisfactory performance reviews.\n",
                            "- **Role Suitability**: Your role must be suitable for remote work, as determined by your department manager.\n",
                            "\n",
                            "## How to Request WFH Days\n",
                            "\n",
                            "If you meet the eligibility criteria and want to work from home, here’s how to request your WFH days:\n",
                            "\n",
                            "1. **Plan Ahead**: You can work from home up to **two (2) days per week**.\n",
                            "2. **Submit Your Request**: Use the HR portal to submit your request at least **24 hours in advance**.\n",
                            "3. **Manager Approval**: Your direct manager will review your request and grant approval at their discretion.\n",
                            "4. **Maintain Regular Hours**: Remember to keep your regular work hours (9 AM - 5 PM) while working from home.\n",
                            "\n",
                            "## Employee Responsibilities\n",
                            "\n",
                            "When you’re working from home, it’s important to stay responsible and connected. Here’s what you need to do:\n",
                            "\n",
                            "- **Stay Available**: Be reachable during business hours through approved communication channels.\n",
                            "- **Attend Meetings**: Join all scheduled meetings virtually.\n",
                            "- **Secure Workspace**: Ensure you have a secure internet connection and a suitable workspace.\n",
                            "- **Data Security**: Follow all data security and confidentiality requirements.\n",
                            "- **Report Incidents**: If any work-related accidents occur during your remote work hours, report them immediately.\n",
                            "\n",
                            "## Q&A Section\n",
                            "\n",
                            "**1. Can I work from home more than two days a week?**  \n",
                            "   - Generally, the policy allows for up to two days per week. If you have special circumstances, please discuss them with your manager.\n",
                            "\n",
                            "**2. What if my request to work from home is denied?**  \n",
                            "   - If your request is denied, your manager will provide feedback. You can always ask for clarification or discuss alternative arrangements.\n",
                            "\n",
                            "**3. What should I do if I experience technical issues while working from home?**  \n",
                            "   - If you encounter any technical problems, please reach out to our IT support during normal business hours for assistance.\n",
                            "\n",
                            "## Need More Help?\n",
                            "\n",
                            "If you have any questions or need further assistance regarding the Work-From-Home policy, feel free to reach out to our HR team:\n",
                            "\n",
                            "- **Email**: hr@company.com\n",
                            "- **Phone**: (123) 456-7890\n",
                            "\n",
                            "We’re here to help you navigate your new role and ensure you have a smooth onboarding experience. Happy working from home!</p>"
                        ],
                        "text/plain": [
                            "<IPython.core.display.Markdown object>"
                        ]
                    },
                    "execution_count": 14,
                    "metadata": {},
                    "output_type": "execute_result"
                }
            ],
            "source": [
                "engineered_response = await get_completion(engineered_prompt)\n",
                "\n",
                "result = f'<h5 style=\"color: blanchedalmond;\">ENGINEERED PROMPT RESPONSE</h5><p>{engineered_response}</p>'\n",
                "\n",
                "display.Markdown(result)"
            ]
        },
        {
            "cell_type": "markdown",
            "id": "1a8d513c",
            "metadata": {},
            "source": [
                "### Comparing the Responses\n",
                "\n",
                "Notice the significant differences between the two responses:\n",
                "\n",
                "**Basic Prompt Response:**\n",
                "- Presents information as a dense paragraph\n",
                "- Lacks clear structure and organization\n",
                "- Uses more formal, policy-like language\n",
                "- Misses some details from the original policy\n",
                "- Difficult for new employees to quickly scan and understand\n",
                "\n",
                "**Engineered Prompt Response:**\n",
                "- Uses a clear, hierarchical structure with headings\n",
                "- Incorporates bullet points and numbering for easier scanning\n",
                "- Adds a helpful Q&A section addressing common concerns\n",
                "- Uses a friendly, supportive tone appropriate for onboarding\n",
                "- Includes contact information for further questions\n",
                "- Much more useful for new employees learning about company policies\n",
                "\n",
                "This example demonstrates how proper prompt engineering can significantly improve policy explanations for employee onboarding, making complex information more accessible and user-friendly."
            ]
        },
        {
            "cell_type": "markdown",
            "id": "dd51ea23",
            "metadata": {},
            "source": [
                "## 5. Few-Shot Learning Example: HR Case Handling\n",
                "\n",
                "Next, let's create a prompt for an HR assistant that handles employee questions about policies using few-shot examples.<br>\n",
                "Few-shot learning is particularly valuable in HR contexts because it helps ensure consistent handling of policy questions across the organization."
            ]
        },
        {
            "cell_type": "code",
            "execution_count": 15,
            "id": "7a7c32b0",
            "metadata": {},
            "outputs": [],
            "source": [
                "# Here we'll set up an HR policy question handler using few-shot examples\n",
                "hr_questions = \"\"\"\n",
                "1. What types of personal leave are available?\n",
                "2. How do I submit a request for professional development funding?\n",
                "3. What is the process for reporting workplace harassment?\n",
                "\"\"\""
            ]
        },
        {
            "cell_type": "code",
            "execution_count": 22,
            "id": "1e531588",
            "metadata": {},
            "outputs": [
                {
                    "data": {
                        "text/markdown": [
                            "**QUESTION 1: What types of personal leave are available?**\n",
                            "\n",
                            "**RESPONSE 1:**\n",
                            "Our company offers several types of personal leave to support employees:\n",
                            "\n",
                            "1. **Sick Leave:** Employees accrue 1 day of sick leave for every month worked, up to a maximum of 12 days per year. Sick leave can be used for personal illness or to care for a sick family member.\n",
                            "\n",
                            "2. **Vacation Leave:** Full-time employees receive 15 days of vacation leave per year, which accrues monthly. Unused vacation days can be carried over to the next year, up to a maximum of 30 days.\n",
                            "\n",
                            "3. **Personal Leave:** Employees may request up to 5 days of personal leave per year for personal matters that require time away from work. This leave is unpaid unless you have vacation days available.\n",
                            "\n",
                            "4. **Family and Medical Leave (FMLA):** Eligible employees can take up to 12 weeks of unpaid leave for serious health conditions, family care, or childbirth. This leave is job-protected.\n",
                            "\n",
                            "To request any type of leave, please fill out the Leave Request Form available on the HR portal and submit it to your manager for approval.\n",
                            "\n",
                            "For more information on specific leave policies, you can contact HR at hr@company.com.\n",
                            "\n",
                            "---\n",
                            "\n",
                            "**QUESTION 2: How do I submit a request for professional development funding?**\n",
                            "\n",
                            "**RESPONSE 2:**\n",
                            "To request funding for professional development, follow these steps:\n",
                            "\n",
                            "1. **Identify the Opportunity:** Find a course, workshop, or conference that aligns with your professional goals and benefits the company.\n",
                            "\n",
                            "2. **Complete the Funding Request Form:** Fill out the Professional Development Funding Request Form, detailing the opportunity, costs, and how it will benefit your role and the company.\n",
                            "\n",
                            "3. **Submit for Approval:** Send the completed form to your direct manager for initial approval. They may provide feedback or suggest modifications.\n",
                            "\n",
                            "4. **Final Submission:** Once your manager approves, submit the form to the HR department at hr@company.com for final review and funding allocation.\n",
                            "\n",
                            "Please submit requests at least 30 days before the event to allow for processing. For questions about eligibility or funding limits, feel free to reach out to HR.\n",
                            "\n",
                            "---\n",
                            "\n",
                            "**QUESTION 3: What is the process for reporting workplace harassment?**\n",
                            "\n",
                            "**RESPONSE 3:**\n",
                            "We take workplace harassment very seriously and have a clear process for reporting it:\n",
                            "\n",
                            "1. **Document the Incident:** Write down details of the incident(s), including dates, times, locations, and any witnesses.\n",
                            "\n",
                            "2. **Report to Your Manager:** If you feel comfortable, report the harassment to your direct manager. They are trained to handle these situations sensitively.\n",
                            "\n",
                            "3. **Contact HR:** If you prefer not to speak with your manager or if the harassment involves them, you can report the issue directly to the HR department at hr@company.com. You can also call the HR hotline at (555) 123-4567.\n",
                            "\n",
                            "4. **Investigation:** HR will conduct a thorough investigation while maintaining confidentiality as much as possible. You will be informed of the outcome and any actions taken.\n",
                            "\n",
                            "5. **No Retaliation:** Our company has a strict no-retaliation policy. You will not face any negative consequences for reporting harassment in good faith.\n",
                            "\n",
                            "If you have any questions or need support during this process, please reach out to HR. Your safety and well-being are our top priorities."
                        ],
                        "text/plain": [
                            "<IPython.core.display.Markdown object>"
                        ]
                    },
                    "execution_count": 22,
                    "metadata": {},
                    "output_type": "execute_result"
                }
            ],
            "source": [
                "# Few-shot HR assistant prompt\n",
                "def create_hr_assistant_prompt(hr_questions):\n",
                "    hr_assistant_prompt = f\"\"\"\n",
                "You are an experienced HR specialist who provides clear, helpful responses to employee questions about company policies.\n",
                "Your goal is to give accurate information in an approachable, easy-to-understand format.\n",
                "\n",
                "Here are examples of the kind of responses you should provide:\n",
                "\n",
                "QUESTION 1:\n",
                "How does the company's health insurance work?\n",
                "\n",
                "RESPONSE 1:\n",
                "Our company offers two health insurance plans:\n",
                "\n",
                "• Standard Plan: $500 deductible, 80% coverage after deductible, $25 copay for office visits\n",
                "• Premium Plan: $250 deductible, 90% coverage after deductible, $15 copay for office visits\n",
                "\n",
                "Enrollment periods:\n",
                "1. When you're first hired (within 30 days)\n",
                "2. During open enrollment (November 1-15 each year)\n",
                "3. After qualifying life events (marriage, birth of child, etc.)\n",
                "\n",
                "Coverage begins on the 1st day of the month following enrollment.\n",
                "\n",
                "For detailed plan documents or questions about specific coverage, contact benefits@company.com.\n",
                "\n",
                "QUESTION 2:\n",
                "What is the company's policy on performance reviews?\n",
                "\n",
                "RESPONSE 2:\n",
                "Performance reviews are conducted twice yearly:\n",
                "\n",
                "• Mid-year review (June): Informal check-in on goals, development, and progress\n",
                "• Annual review (December): Formal evaluation tied to compensation decisions\n",
                "\n",
                "The process works like this:\n",
                "1. You'll complete a self-assessment in the HR system\n",
                "2. Your manager will complete their assessment of your performance\n",
                "3. You'll have a one-on-one meeting to discuss feedback and set new goals\n",
                "4. Both you and your manager will sign off on the final review\n",
                "\n",
                "New employees hired less than 3 months before a review period may have a modified process.\n",
                "\n",
                "For specific questions about your upcoming review, please speak with your direct manager.\n",
                "\n",
                "Now, please respond to the following employee questions in the same clear, helpful format:\n",
                "\n",
                "{hr_questions}\n",
                "\"\"\"\n",
                "    return hr_assistant_prompt\n",
                "\n",
                "hr_assistant_prompt = create_hr_assistant_prompt(hr_questions)\n",
                "\n",
                "hr_responses = await get_completion(hr_assistant_prompt)\n",
                "\n",
                "display.Markdown(hr_responses)"
            ]
        },
        {
            "cell_type": "markdown",
            "id": "2a96cfc7",
            "metadata": {},
            "source": [
                "### The Power of Few-Shot Learning for HR Policy Explanation\n",
                "\n",
                "The example above demonstrates how few-shot learning can dramatically improve the quality of HR policy explanations.<br>\n",
                "By providing examples of well-structured, clear responses to policy questions, we:\n",
                "\n",
                "1. **Ensure consistency** in how policies are explained to employees\n",
                "2. **Establish a standardized format** that makes information easy to scan and understand\n",
                "3. **Model the appropriate tone** that balances professionalism with accessibility\n",
                "4. **Include practical details** that employees need, like contact information and next steps\n",
                "\n",
                "This approach is particularly valuable during employee onboarding, where new team members are encountering many company policies for the first time and need clear, actionable information."
            ]
        },
        {
            "cell_type": "markdown",
            "id": "e3ce26ac",
            "metadata": {},
            "source": [
                "## 6. Chain-of-Thought Prompting: Complex Policy Explanation\n",
                "\n",
                "Now let's explore chain-of-thought prompting for explaining a more complex HR policy.<br>\n",
                "This technique is especially useful for policies with multiple conditions, exceptions, or procedural steps that need to be clearly explained to new employees."
            ]
        },
        {
            "cell_type": "code",
            "execution_count": 23,
            "id": "ee1cc2d2",
            "metadata": {},
            "outputs": [
                {
                    "data": {
                        "text/markdown": [
                            "<h5 style=\"color: blanchedalmond;\">STANDARD EXPLANATION</h5><p>For international travel, you will be reimbursed for meals at an actual cost, but there is a daily limit of $100. Additionally, for transportation and lodging, you will need to follow the specific guidelines outlined in the policy, such as booking flights in business class for flights over 8 hours and staying at preferred partner hotels within the maximum nightly rates specified in the travel portal. \n",
                            "\n",
                            "Make sure to keep all receipts, as itemized receipts are required for any expenses over $25. If you have any specific expenses in mind, feel free to ask for more details!</p>"
                        ],
                        "text/plain": [
                            "<IPython.core.display.Markdown object>"
                        ]
                    },
                    "execution_count": 23,
                    "metadata": {},
                    "output_type": "execute_result"
                }
            ],
            "source": [
                "# Complex travel and expense policy\n",
                "complex_policy = \"\"\"\n",
                "COMPANY TRAVEL AND EXPENSE REIMBURSEMENT POLICY\n",
                "\n",
                "1. GENERAL GUIDELINES\n",
                "1.1 This policy applies to all employees traveling for business purposes and submitting expenses for reimbursement.\n",
                "1.2 All business travel requires manager approval prior to booking.\n",
                "1.3 Employees must book travel through the designated corporate travel portal.\n",
                "1.4 All expenses must be reasonable, necessary, and for legitimate business purposes.\n",
                "\n",
                "2. TRANSPORTATION\n",
                "2.1 Air Travel\n",
                "   2.1.1 Economy class is required for flights under 8 hours duration.\n",
                "   2.1.2 Business class is permitted for flights over 8 hours duration.\n",
                "   2.1.3 Tickets should be purchased at least 14 days in advance when possible.\n",
                "\n",
                "2.2 Ground Transportation\n",
                "   2.2.1 Personal vehicle use is reimbursed at $0.55 per mile.\n",
                "   2.2.2 Rental cars must be economy or compact class unless 3+ employees are traveling together.\n",
                "   2.2.3 Standard ride services are permitted; premium options are not reimbursable.\n",
                "\n",
                "3. LODGING\n",
                "3.1 Employees should stay at preferred partner hotels when available.\n",
                "3.2 Maximum nightly rates vary by location and are specified in the travel portal.\n",
                "3.3 Standard single rooms are authorized; upgrades are at employee's expense.\n",
                "\n",
                "4. MEALS AND ENTERTAINMENT\n",
                "4.1 Meals are reimbursed at actual cost with appropriate receipts.\n",
                "4.2 Daily meal limits are: $60 domestic, $100 international.\n",
                "4.3 Itemized receipts are required for all purchases over $25.\n",
                "4.4 Client entertainment requires pre-approval and business justification.\n",
                "\n",
                "5. EXPENSE REPORTING\n",
                "5.1 All expense reports must be submitted within 15 days of trip completion.\n",
                "5.2 Reports must be submitted through the expense management system.\n",
                "5.3 Original or digital copies of receipts must be attached for all expenses over $25.\n",
                "5.4 Expenses are typically reimbursed within 7-10 business days after approval.\n",
                "\n",
                "6. NON-REIMBURSABLE ITEMS\n",
                "6.1 Personal entertainment (movies, gym fees, etc.)\n",
                "6.2 Expenses for spouse or family members\n",
                "6.3 Flight upgrades outside of policy\n",
                "6.4 Alcohol (except for client entertainment with prior approval)\n",
                "\n",
                "7. EXCEPTIONS\n",
                "7.1 Exceptions to this policy require CFO approval for expenses exceeding limits by more than 10%.\n",
                "7.2 Exception requests must be submitted with written justification.\n",
                "\"\"\"\n",
                "\n",
                "# Standard prompt\n",
                "standard_explanation_prompt = f\"\"\"\n",
                "Explain this travel and expense reimbursement policy to new employees:\n",
                "\n",
                "{complex_policy}\n",
                "\"\"\"\n",
                "\n",
                "standard_explanation = await get_completion(\"How much will I be reimbursed for international travel?\", standard_explanation_prompt)\n",
                "\n",
                "result = f'<h5 style=\"color: blanchedalmond;\">STANDARD EXPLANATION</h5><p>{standard_explanation}</p>'\n",
                "\n",
                "display.Markdown(result)"
            ]
        },
        {
            "cell_type": "code",
            "execution_count": 24,
            "id": "115f4dd3",
            "metadata": {},
            "outputs": [
                {
                    "data": {
                        "text/markdown": [
                            "<h5 style=\"color: blanchedalmond;\">CHAIN-OF-THOUGHT EXPLANATION</h5><p>**Travel & Expense Policy Explanation for New Employees**\n",
                            "\n",
                            "Welcome to the team! Understanding our travel and expense policy is essential for ensuring a smooth experience when you travel for business. Let’s break it down step by step.\n",
                            "\n",
                            "### 1. Purpose of the Policy\n",
                            "- **What is it?** This policy outlines how employees can get reimbursed for expenses incurred while traveling for business purposes.\n",
                            "- **Who does it apply to?** It applies to all employees who travel for work and need to submit expenses for reimbursement.\n",
                            "\n",
                            "### 2. Travel Process Breakdown\n",
                            "\n",
                            "#### **Before Travel**\n",
                            "1. **Get Manager Approval**\n",
                            "   - **What to do:** Always seek approval from your manager before booking any travel.\n",
                            "   - **Limits:** No travel should be booked without this approval.\n",
                            "\n",
                            "2. **Book Travel**\n",
                            "   - **What to do:** Use the designated corporate travel portal to book your flights, hotels, and transportation.\n",
                            "   - **Limits:** Ensure you follow the guidelines for transportation and lodging.\n",
                            "\n",
                            "#### **During Travel**\n",
                            "1. **Transportation**\n",
                            "   - **Air Travel:** \n",
                            "     - Economy class for flights under 8 hours.\n",
                            "     - Business class for flights over 8 hours.\n",
                            "     - Book tickets at least 14 days in advance when possible.\n",
                            "   - **Ground Transportation:**\n",
                            "     - Personal vehicle: Reimbursed at $0.55 per mile.\n",
                            "     - Rental cars: Must be economy or compact unless traveling with 3+ employees.\n",
                            "     - Standard ride services are allowed; premium options are not reimbursable.\n",
                            "\n",
                            "2. **Lodging**\n",
                            "   - **What to do:** Stay at preferred partner hotels when available.\n",
                            "   - **Limits:** Follow the maximum nightly rates specified in the travel portal. Standard single rooms are authorized; upgrades are at your expense.\n",
                            "\n",
                            "3. **Meals and Entertainment**\n",
                            "   - **What to do:** Keep all receipts for meals and entertainment.\n",
                            "   - **Limits:** \n",
                            "     - Meals: Actual cost with limits of $60 per day for domestic travel and $100 for international travel.\n",
                            "     - Itemized receipts are required for purchases over $25.\n",
                            "     - Client entertainment requires pre-approval.\n",
                            "\n",
                            "#### **After Travel**\n",
                            "1. **Expense Reporting**\n",
                            "   - **What to do:** Submit your expense report within 15 days of completing your trip.\n",
                            "   - **Limits:** Use the expense management system and attach original or digital copies of receipts for expenses over $25.\n",
                            "   - **Reimbursement Timeline:** Typically, you’ll receive reimbursement within 7-10 business days after approval.\n",
                            "\n",
                            "### 3. Common Mistakes to Avoid\n",
                            "- **Not Getting Approval:** Failing to get manager approval before booking travel.\n",
                            "- **Missing Receipts:** Forgetting to keep receipts for expenses over $25.\n",
                            "- **Late Submissions:** Submitting expense reports after the 15-day deadline.\n",
                            "- **Exceeding Limits:** Not adhering to meal and lodging limits.\n",
                            "\n",
                            "### 4. Questions?\n",
                            "If you have any questions about the travel and expense policy, please reach out to the HR department or your manager. They are here to help you navigate any uncertainties!\n",
                            "\n",
                            "By following these guidelines, you can ensure that your travel experience is efficient and that you receive the reimbursements you deserve. Safe travels!</p>"
                        ],
                        "text/plain": [
                            "<IPython.core.display.Markdown object>"
                        ]
                    },
                    "execution_count": 24,
                    "metadata": {},
                    "output_type": "execute_result"
                }
            ],
            "source": [
                "# Chain-of-thought prompt\n",
                "cot_explanation_prompt = f\"\"\"\n",
                "You are an HR specialist helping new employees understand company policies during onboarding.\n",
                "\n",
                "Please explain the following travel and expense policy in a way that's easy for new employees to understand and follow. \n",
                "\n",
                "To provide a comprehensive explanation, please:\n",
                "\n",
                "1. First, explain the basic purpose of the policy and who it applies to.\n",
                "2. Then, break down the process into logical steps (before travel, during travel, after travel).\n",
                "3. For each step, explain what the employee needs to do, what limits apply, and any exceptions.\n",
                "4. Highlight common mistakes new employees make with expense reporting.\n",
                "5. Finally, provide information on who to contact with questions.\n",
                "\n",
                "Use a friendly, helpful tone and format your response with clear headings, bullet points, and numbered lists where appropriate.\n",
                "Title your response \"Travel & Expense Policy Explanation for New Employees\"\n",
                "\n",
                "POLICY TO EXPLAIN:\n",
                "{complex_policy}\n",
                "\"\"\"\n",
                "\n",
                "cot_explanation = await get_completion(\"How much will I be reimbursed for international travel?\", cot_explanation_prompt)\n",
                "\n",
                "result = f'<h5 style=\"color: blanchedalmond;\">CHAIN-OF-THOUGHT EXPLANATION</h5><p>{cot_explanation}</p>'\n",
                "\n",
                "display.Markdown(result)"
            ]
        },
        {
            "cell_type": "markdown",
            "id": "825bdc72",
            "metadata": {},
            "source": [
                "### Benefits of Chain-of-Thought Prompting for Complex Policies\n",
                "\n",
                "Notice how the chain-of-thought approach transforms a complex policy into a step-by-step guide that's much easier for new employees to understand and follow. Key advantages include:\n",
                "\n",
                "1. **Logical Flow**: The policy is explained as a process with clear steps, making it easier to understand the sequence of actions required.\n",
                "\n",
                "2. **Contextual Understanding**: Each section explains not just what to do, but why it matters and how it fits into the bigger picture.\n",
                "\n",
                "3. **Practical Focus**: The explanation emphasizes what employees need to know to comply with the policy correctly.\n",
                "\n",
                "4. **Anticipating Questions**: By addressing common mistakes and special circumstances, the explanation proactively answers questions new employees are likely to have.\n",
                "\n",
                "This approach is particularly valuable for complex HR policies that might otherwise be overwhelming during the onboarding process."
            ]
        },
        {
            "cell_type": "markdown",
            "id": "950b52f3",
            "metadata": {},
            "source": [
                "## 7. Evaluation with Azure AI Evaluation SDK\n",
                "\n",
                "Now let's explore Microsoft's Azure AI Evaluation SDK to quantitatively evaluate our prompts.<br>\n",
                "For HR policy explanations during onboarding, it's important to measure how clear, helpful, and accurate the explanations are - evaluation helps ensure our prompts are genuinely helping new employees understand company policies."
            ]
        },
        {
            "cell_type": "code",
            "execution_count": 25,
            "id": "bd62e28b",
            "metadata": {},
            "outputs": [],
            "source": [
                "# Import the Azure AI Evaluation SDK\n",
                "from azure.ai.evaluation import RelevanceEvaluator, FluencyEvaluator, CoherenceEvaluator\n",
                "from typing import Dict\n",
                "\n",
                "# Configure the model for evaluation\n",
                "model_config = {\n",
                "    \"azure_endpoint\": os.getenv(\"AZURE_OPENAI_ENDPOINT\"),\n",
                "    \"api_key\": os.getenv(\"AZURE_OPENAI_KEY\"),\n",
                "    \"azure_deployment\": os.getenv(\"AZURE_OPENAI_DEPLOYMENT\"),\n",
                "    \"api_version\": \"2024-12-01-preview\"\n",
                "}"
            ]
        },
        {
            "cell_type": "markdown",
            "id": "0a32e954",
            "metadata": {},
            "source": [
                "### Evaluating HR Policy Explanations\n",
                "\n",
                "The `evaluate_policy_explanation` function performs a comprehensive evaluation of policy explanations using three different evaluators. \n",
                "Each evaluator is initialized with model configuration settings for:\n",
                "\n",
                "- Relevance: Measures how well the text addresses the intended topic\n",
                "- Fluency: Assesses language quality and readability\n",
                "- Coherence: Evaluates logical flow and structure"
            ]
        },
        {
            "cell_type": "code",
            "execution_count": 26,
            "id": "111a37e5",
            "metadata": {},
            "outputs": [],
            "source": [
                "def evaluate_policy_explanation(text: str, reference_text: str) -> Dict:\n",
                "\n",
                "    # Initialize evaluators\n",
                "    relevance_evaluator = RelevanceEvaluator(model_config)\n",
                "    fluency_evaluator = FluencyEvaluator(model_config)\n",
                "    coherence_evaluator = CoherenceEvaluator(model_config)\n",
                "    \n",
                "    # Perform evaluations asynchronously\n",
                "    relevance_result = relevance_evaluator(\n",
                "        query=text,\n",
                "        response=reference_text\n",
                "    )\n",
                "    \n",
                "    fluency_result = fluency_evaluator(\n",
                "        response=reference_text\n",
                "    )\n",
                "    \n",
                "    coherence_result = coherence_evaluator(\n",
                "        query=text,\n",
                "        response=reference_text\n",
                "    )\n",
                "\n",
                "    # Return evaluation results\n",
                "    return {\n",
                "        'relevance': relevance_result,\n",
                "        'fluency': fluency_result,\n",
                "        'coherence': coherence_result\n",
                "    }"
            ]
        },
        {
            "cell_type": "markdown",
            "id": "881f038d",
            "metadata": {},
            "source": [
                "The `format_evaluation_results` function transforms raw evaluation data into a human-readable report format."
            ]
        },
        {
            "cell_type": "code",
            "execution_count": 27,
            "id": "f225100a",
            "metadata": {},
            "outputs": [],
            "source": [
                "def format_evaluation_results(eval_dict):\n",
                "    \n",
                "    def create_score_emoji(score):\n",
                "        if score >= 5.0:\n",
                "            return \"⭐⭐⭐⭐⭐\"\n",
                "        elif score >= 4.0:\n",
                "            return \"⭐⭐⭐⭐\"\n",
                "        elif score >= 3.0:\n",
                "            return \"⭐⭐⭐\"\n",
                "        elif score >= 2.0:\n",
                "            return \"⭐⭐\"\n",
                "        else:\n",
                "            return \"⭐\"\n",
                "\n",
                "    print(\"\\n📊 POLICY EVALUATION REPORT\")\n",
                "    print(\"=\" * 80)\n",
                "\n",
                "    for category, details in eval_dict.items():\n",
                "        print(f\"\\n📌 {category.upper()}\")\n",
                "        print(\"-\" * 80)\n",
                "        \n",
                "        if 'gpt_' + category in details:\n",
                "            score = details[category]\n",
                "            gpt_score = details['gpt_' + category]\n",
                "            reason = details[category + '_reason']\n",
                "            \n",
                "            print(f\"Score:        {score:.1f}/5.0  {create_score_emoji(score)}\")\n",
                "            print(f\"GPT Score:    {gpt_score:.1f}/5.0  {create_score_emoji(gpt_score)}\")\n",
                "            print(f\"\\nReasoning:\")\n",
                "            print(f\"└─ {reason}\")\n",
                "        \n",
                "        print()"
            ]
        },
        {
            "cell_type": "markdown",
            "id": "4e0452bf",
            "metadata": {},
            "source": [
                "Now let's run the evaluation for the standard prompt that explains the company policy.\n",
                "This will produce a small report where you can see the scores of the evaluations and also the reasoning.\n",
                "\n",
                "Here's a breakdown of what the values of the report are:\n",
                "\n",
                "- **Score**: This is the relevance score, which ranges from 1 to 5. A score of 1 indicates poor relevance, while a score of 5 indicates high relevance. This score reflects how well the response captures the key points of the context and addresses the query1.\n",
                "\n",
                "- **GPT Score**: This is similar to the relevance score but specifically tailored for GPT models. It assesses the model's understanding and ability to generate contextually appropriate responses. The GPT score also ranges from 1 to 51.\n",
                "\n",
                "- **Reasoning**: This provides an explanation of why the given score was assigned. It includes details on how well the response aligns with the query, the completeness of the answer, and any contextual appropriateness. The reasoning helps in understanding the strengths and weaknesses of the response"
            ]
        },
        {
            "cell_type": "code",
            "execution_count": 28,
            "id": "c8550573",
            "metadata": {},
            "outputs": [
                {
                    "name": "stdout",
                    "output_type": "stream",
                    "text": [
                        "\n",
                        "📊 POLICY EVALUATION REPORT\n",
                        "================================================================================\n",
                        "\n",
                        "📌 RELEVANCE\n",
                        "--------------------------------------------------------------------------------\n",
                        "Score:        3.0/5.0  ⭐⭐⭐\n",
                        "GPT Score:    3.0/5.0  ⭐⭐⭐\n",
                        "\n",
                        "Reasoning:\n",
                        "└─ The RESPONSE provides relevant information about meal reimbursement and some transportation and lodging guidelines but does not cover the entire policy, making it incomplete. Thus, it should be rated as a 3 for being an incomplete response.\n",
                        "\n",
                        "\n",
                        "📌 FLUENCY\n",
                        "--------------------------------------------------------------------------------\n",
                        "Score:        4.0/5.0  ⭐⭐⭐⭐\n",
                        "GPT Score:    4.0/5.0  ⭐⭐⭐⭐\n",
                        "\n",
                        "Reasoning:\n",
                        "└─ The input Data should get a Score of 4 because it is well-articulated, with good grammar and a varied vocabulary. The sentences are complex and coherent, and the message is easily understood without any significant errors affecting comprehension.\n",
                        "\n",
                        "\n",
                        "📌 COHERENCE\n",
                        "--------------------------------------------------------------------------------\n",
                        "Score:        3.0/5.0  ⭐⭐⭐\n",
                        "GPT Score:    3.0/5.0  ⭐⭐⭐\n",
                        "\n",
                        "Reasoning:\n",
                        "└─ The RESPONSE partially addresses the QUERY by mentioning key points about meal reimbursement, transportation, lodging, and the need for receipts. However, it lacks a thorough explanation of the entire policy and has some abrupt transitions, which affects its coherence. Therefore, it fits the definition of a partially coherent response.\n",
                        "\n"
                    ]
                }
            ],
            "source": [
                "# Evaluate the standard explanation\n",
                "standard_result = evaluate_policy_explanation(\n",
                "    standard_explanation_prompt, \n",
                "    standard_explanation\n",
                ")\n",
                "\n",
                "standard_formatted_result = format_evaluation_results(standard_result)"
            ]
        },
        {
            "cell_type": "markdown",
            "id": "310485f4",
            "metadata": {},
            "source": [
                "Now we will do the same evaluation to the Chain of Thouhgt prompt:"
            ]
        },
        {
            "cell_type": "code",
            "execution_count": 29,
            "id": "40e5c51d",
            "metadata": {},
            "outputs": [
                {
                    "name": "stdout",
                    "output_type": "stream",
                    "text": [
                        "\n",
                        "📊 POLICY EVALUATION REPORT\n",
                        "================================================================================\n",
                        "\n",
                        "📌 RELEVANCE\n",
                        "--------------------------------------------------------------------------------\n",
                        "Score:        5.0/5.0  ⭐⭐⭐⭐⭐\n",
                        "GPT Score:    5.0/5.0  ⭐⭐⭐⭐⭐\n",
                        "\n",
                        "Reasoning:\n",
                        "└─ The RESPONSE fully addresses the QUERY with accurate, complete, and well-organized information, making it a comprehensive response that includes additional insights and guidance for new employees.\n",
                        "\n",
                        "\n",
                        "📌 FLUENCY\n",
                        "--------------------------------------------------------------------------------\n",
                        "Score:        4.0/5.0  ⭐⭐⭐⭐\n",
                        "GPT Score:    4.0/5.0  ⭐⭐⭐⭐\n",
                        "\n",
                        "Reasoning:\n",
                        "└─ The input Data should receive a Score of 4 because it is well-articulated, coherent, and uses a varied vocabulary with complex sentence structures. There are minor errors, but they do not affect overall understanding, and the text flows smoothly.\n",
                        "\n",
                        "\n",
                        "📌 COHERENCE\n",
                        "--------------------------------------------------------------------------------\n",
                        "Score:        5.0/5.0  ⭐⭐⭐⭐⭐\n",
                        "GPT Score:    5.0/5.0  ⭐⭐⭐⭐⭐\n",
                        "\n",
                        "Reasoning:\n",
                        "└─ The RESPONSE is coherent and effectively addresses the QUERY, providing a structured and clear explanation of the travel and expense policy. It meets all the requirements outlined in the QUERY, making it easy for new employees to understand and follow.\n",
                        "\n"
                    ]
                }
            ],
            "source": [
                "# Evaluate the standard explanation\n",
                "cot_result = evaluate_policy_explanation(\n",
                "    cot_explanation_prompt, \n",
                "    cot_explanation\n",
                ")\n",
                "\n",
                "cot_formatted_result = format_evaluation_results(cot_result)"
            ]
        },
        {
            "cell_type": "markdown",
            "id": "c3ff05eb",
            "metadata": {},
            "source": [
                "### Visualizing Evaluation Results\n",
                "\n",
                "Visualizing evaluation results helps us understand the strengths and weaknesses of different prompting approaches. For HR policy explanations, this data can help determine which approaches are most effective for helping new employees understand complex policies."
            ]
        },
        {
            "cell_type": "code",
            "execution_count": 30,
            "id": "f72a9d44",
            "metadata": {},
            "outputs": [
                {
                    "data": {
                        "image/png": "[encoded data removed]",
                        "text/plain": [
                            "<Figure size 1000x600 with 1 Axes>"
                        ]
                    },
                    "metadata": {},
                    "output_type": "display_data"
                }
            ],
            "source": [
                "def visualize_evaluation(basic_scores, engineered_scores, metrics):\n",
                "    \"\"\"Create a bar chart comparing evaluation scores\"\"\"\n",
                "    x = np.arange(len(metrics))\n",
                "    width = 0.35\n",
                "    \n",
                "    fig, ax = plt.subplots(figsize=(10, 6))\n",
                "    ax.bar(x - width/2, basic_scores, width, label='Standard Prompt')\n",
                "    ax.bar(x + width/2, engineered_scores, width, label='Engineered Prompt')\n",
                "    \n",
                "    ax.set_ylim(0, 5)\n",
                "    ax.set_ylabel('Score')\n",
                "    ax.set_title('Prompt Evaluation Comparison')\n",
                "    ax.set_xticks(x)\n",
                "    ax.set_xticklabels(metrics)\n",
                "    ax.legend()\n",
                "    \n",
                "    plt.tight_layout()\n",
                "    plt.show()\n",
                "\n",
                "# Extract scores\n",
                "basic_scores = [standard_result[\"relevance\"][\"relevance\"], standard_result[\"fluency\"][\"fluency\"], standard_result[\"coherence\"][\"coherence\"]]\n",
                "engineered_scores = [cot_result[\"relevance\"][\"relevance\"], cot_result[\"fluency\"][\"fluency\"], cot_result[\"coherence\"][\"coherence\"]]\n",
                "metrics = ['Relevance', 'Fluency', 'Coherence']\n",
                "\n",
                "visualize_evaluation(basic_scores, engineered_scores, metrics)"
            ]
        },
        {
            "cell_type": "markdown",
            "id": "45823e02",
            "metadata": {},
            "source": [
                "## 8. Key Takeaways and Best Practices\n",
                "\n",
                "Based on our experiments with prompt engineering and evaluation, here are the key takeaways:\n",
                "\n",
                "1. **Clear Role Definition**: Defining the AI's role significantly improves response quality\n",
                "2. **Structured Formatting**: Requesting specific output formats produces more organized, usable outputs\n",
                "3. **Few-Shot Examples**: Providing examples dramatically improves the model's ability to follow patterns\n",
                "4. **Chain-of-Thought**: Guiding the model through a reasoning process improves analytical outputs\n",
                "5. **Quantitative Evaluation**: Using consistent metrics helps identify areas for improvement\n",
                "6. **Multiple Metrics**: Evaluating along different dimensions provides a more complete picture of prompt quality\n",
                "\n",
                "These principles can be applied to any prompt engineering task and help create more effective AI interactions."
            ]
        },
        {
            "cell_type": "markdown",
            "id": "7c952c06",
            "metadata": {},
            "source": [
                "## 9. Conclusion\n",
                "\n",
                "In this challenge, we've explored fundamental prompt engineering techniques and evaluation methods using Microsoft's Azure AI Evaluation SDK. We've seen how different prompting approaches can dramatically improve the quality, relevance, and usefulness of AI-generated content.\n",
                "\n",
                "By applying structured evaluation metrics, we were able to quantitatively measure improvements and guide our prompt refinement process. This systematic approach to prompt engineering can be applied to many different business scenarios, helping to create more effective AI interactions."
            ]
        }
    ],
    "metadata": {
        "kernelspec": {
            "display_name": "Python 3",
            "language": "python",
            "name": "python3"
        },
        "language_info": {
            "codemirror_mode": {
                "name": "ipython",
                "version": 3
            },
            "file_extension": ".py",
            "mimetype": "text/x-python",
            "name": "python",
            "nbconvert_exporter": "python",
            "pygments_lexer": "ipython3",
            "version": "3.11.11"
        }
    },
    "nbformat": 4,
    "nbformat_minor": 5
}
